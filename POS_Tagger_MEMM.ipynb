{
  "nbformat": 4,
  "nbformat_minor": 0,
  "metadata": {
    "colab": {
      "name": "POS_Tagger_MEMM.ipynb",
      "provenance": [],
      "collapsed_sections": []
    },
    "kernelspec": {
      "display_name": "Python 3",
      "name": "python3"
    },
    "language_info": {
      "name": "python"
    }
  },
  "cells": [
    {
      "cell_type": "code",
      "metadata": {
        "colab": {
          "base_uri": "https://localhost:8080/"
        },
        "id": "XtXa-oq9r-af",
        "outputId": "bd9a7f3d-801e-4c77-d466-192081c5a08a"
      },
      "source": [
        "from google.colab import drive\n",
        "drive.mount('/content/drive')"
      ],
      "execution_count": null,
      "outputs": [
        {
          "output_type": "stream",
          "text": [
            "Drive already mounted at /content/drive; to attempt to forcibly remount, call drive.mount(\"/content/drive\", force_remount=True).\n"
          ],
          "name": "stdout"
        }
      ]
    },
    {
      "cell_type": "code",
      "metadata": {
        "colab": {
          "base_uri": "https://localhost:8080/"
        },
        "id": "b0_jcI8JsQCL",
        "outputId": "859886c9-05be-44bf-c398-9afa6cc5a932"
      },
      "source": [
        "cd /content/drive/My Drive/"
      ],
      "execution_count": null,
      "outputs": [
        {
          "output_type": "stream",
          "text": [
            "/content/drive/My Drive\n"
          ],
          "name": "stdout"
        }
      ]
    },
    {
      "cell_type": "code",
      "metadata": {
        "id": "oWWOcCG48YXR"
      },
      "source": [
        "# !mkdir pos_tagger"
      ],
      "execution_count": null,
      "outputs": []
    },
    {
      "cell_type": "code",
      "metadata": {
        "colab": {
          "base_uri": "https://localhost:8080/"
        },
        "id": "ITknXBMj9P1W",
        "outputId": "432a5a61-607e-4de3-999a-70aa495184c8"
      },
      "source": [
        "cd pos_tagger"
      ],
      "execution_count": null,
      "outputs": [
        {
          "output_type": "stream",
          "text": [
            "/content/drive/My Drive/pos_tagger\n"
          ],
          "name": "stdout"
        }
      ]
    },
    {
      "cell_type": "code",
      "metadata": {
        "colab": {
          "base_uri": "https://localhost:8080/"
        },
        "id": "DfCGg7Ke8Zxx",
        "outputId": "f0e650f8-2eb7-4ba6-82c7-90df26028358"
      },
      "source": [
        "!wget http://www.cnts.ua.ac.be/conll2000/chunking/train.txt.gz -O - | gunzip | cut -f1,2 -d\" \" > pos.train.txt"
      ],
      "execution_count": null,
      "outputs": [
        {
          "output_type": "stream",
          "text": [
            "--2021-05-20 03:10:12--  http://www.cnts.ua.ac.be/conll2000/chunking/train.txt.gz\n",
            "Resolving www.cnts.ua.ac.be (www.cnts.ua.ac.be)... 146.175.13.81\n",
            "Connecting to www.cnts.ua.ac.be (www.cnts.ua.ac.be)|146.175.13.81|:80... connected.\n",
            "HTTP request sent, awaiting response... 301 Moved Permanently\n",
            "Location: https://www.clips.uantwerpen.be/conll2000/chunking/train.txt.gz [following]\n",
            "--2021-05-20 03:10:13--  https://www.clips.uantwerpen.be/conll2000/chunking/train.txt.gz\n",
            "Resolving www.clips.uantwerpen.be (www.clips.uantwerpen.be)... 146.175.13.81\n",
            "Connecting to www.clips.uantwerpen.be (www.clips.uantwerpen.be)|146.175.13.81|:443... connected.\n",
            "HTTP request sent, awaiting response... 200 OK\n",
            "Length: 611540 (597K) [application/x-gzip]\n",
            "Saving to: ‘STDOUT’\n",
            "\n",
            "-                   100%[===================>] 597.21K  --.-KB/s    in 0.07s   \n",
            "\n",
            "2021-05-20 03:10:13 (8.06 MB/s) - written to stdout [611540/611540]\n",
            "\n"
          ],
          "name": "stdout"
        }
      ]
    },
    {
      "cell_type": "code",
      "metadata": {
        "colab": {
          "base_uri": "https://localhost:8080/"
        },
        "id": "0c0q0RxD9V0K",
        "outputId": "0c651a08-7468-43d2-bbfe-622581222e57"
      },
      "source": [
        "!wget http://www.cnts.ua.ac.be/conll2000/chunking/test.txt.gz -O - | gunzip | cut -f1,2 -d \" \" > pos.test.txt"
      ],
      "execution_count": null,
      "outputs": [
        {
          "output_type": "stream",
          "text": [
            "--2021-05-20 03:10:13--  http://www.cnts.ua.ac.be/conll2000/chunking/test.txt.gz\n",
            "Resolving www.cnts.ua.ac.be (www.cnts.ua.ac.be)... 146.175.13.81\n",
            "Connecting to www.cnts.ua.ac.be (www.cnts.ua.ac.be)|146.175.13.81|:80... connected.\n",
            "HTTP request sent, awaiting response... 301 Moved Permanently\n",
            "Location: https://www.clips.uantwerpen.be/conll2000/chunking/test.txt.gz [following]\n",
            "--2021-05-20 03:10:13--  https://www.clips.uantwerpen.be/conll2000/chunking/test.txt.gz\n",
            "Resolving www.clips.uantwerpen.be (www.clips.uantwerpen.be)... 146.175.13.81\n",
            "Connecting to www.clips.uantwerpen.be (www.clips.uantwerpen.be)|146.175.13.81|:443... connected.\n",
            "HTTP request sent, awaiting response... 200 OK\n",
            "Length: 139551 (136K) [application/x-gzip]\n",
            "Saving to: ‘STDOUT’\n",
            "\n",
            "-                   100%[===================>] 136.28K   325KB/s    in 0.4s    \n",
            "\n",
            "2021-05-20 03:10:14 (325 KB/s) - written to stdout [139551/139551]\n",
            "\n"
          ],
          "name": "stdout"
        }
      ]
    },
    {
      "cell_type": "code",
      "metadata": {
        "id": "iDWcljAbOA_C"
      },
      "source": [
        "import os\n",
        "import pandas as pd\n",
        "\n",
        "import torch\n",
        "import torch.nn as nn\n",
        "import torch.nn.functional as F\n",
        "from torch.autograd import Variable\n",
        "\n",
        "import numpy as np\n",
        "import matplotlib.pyplot as plt\n",
        "import time\n",
        "from sklearn.utils import shuffle\n",
        "from sklearn.metrics import confusion_matrix, accuracy_score, f1_score, precision_score, recall_score\n",
        "\n",
        "import nltk\n",
        "from nltk import word_tokenize\n",
        "from nltk.classify import MaxentClassifier\n",
        "\n",
        "import string\n",
        "import re\n",
        "import spacy\n",
        "\n",
        "import pickle\n",
        "from collections import Counter"
      ],
      "execution_count": null,
      "outputs": []
    },
    {
      "cell_type": "code",
      "metadata": {
        "colab": {
          "base_uri": "https://localhost:8080/"
        },
        "id": "ubt0hX8WS94T",
        "outputId": "de315321-66af-43b5-8da5-d1bcbc3f81f8"
      },
      "source": [
        "nltk.download('punkt')"
      ],
      "execution_count": null,
      "outputs": [
        {
          "output_type": "stream",
          "text": [
            "[nltk_data] Downloading package punkt to /root/nltk_data...\n",
            "[nltk_data]   Unzipping tokenizers/punkt.zip.\n"
          ],
          "name": "stdout"
        },
        {
          "output_type": "execute_result",
          "data": {
            "text/plain": [
              "True"
            ]
          },
          "metadata": {
            "tags": []
          },
          "execution_count": 9
        }
      ]
    },
    {
      "cell_type": "code",
      "metadata": {
        "id": "TeBYYpX4OKnu"
      },
      "source": [
        "np.random.seed(20)"
      ],
      "execution_count": null,
      "outputs": []
    },
    {
      "cell_type": "code",
      "metadata": {
        "id": "7uc5RanSeVAs"
      },
      "source": [
        "remove_tags = ['.',',','(',')',':','``',\"''\",'#','$']"
      ],
      "execution_count": null,
      "outputs": []
    },
    {
      "cell_type": "code",
      "metadata": {
        "id": "O8mkmUcN_RYJ"
      },
      "source": [
        "train_file = \"pos.train.txt\"\n",
        "test_file = \"pos.test.txt\"\n",
        "\n",
        "def create_dataset(filename):\n",
        "    data = []\n",
        "    label = []\n",
        "    with open(filename, 'r') as f:\n",
        "        x = []\n",
        "        y = []\n",
        "        for line in f:\n",
        "            s = line.split()\n",
        "            if s == []:\n",
        "                data.append(\" \".join(x))\n",
        "                label.append(\" \".join(y))\n",
        "                x = []\n",
        "                y = []\n",
        "                continue\n",
        "            x.append(s[0])\n",
        "            if s[1] in remove_tags:\n",
        "                y.append(\"PUN\")\n",
        "            else:\n",
        "                y.append(s[1])\n",
        "    return data, label\n",
        "\n",
        "X_train, y_train_tags = create_dataset(train_file)\n",
        "X_test, y_test_tags = create_dataset(test_file)"
      ],
      "execution_count": null,
      "outputs": []
    },
    {
      "cell_type": "code",
      "metadata": {
        "colab": {
          "base_uri": "https://localhost:8080/"
        },
        "id": "jU4NaVlYNDVl",
        "outputId": "b5c2ef58-90ea-423a-ff14-8a3cfcd4e0be"
      },
      "source": [
        "POS_tags = {}\n",
        "for line in y_train_tags:\n",
        "    s = line.split()\n",
        "    for elem in s:\n",
        "        if elem not in POS_tags:\n",
        "            POS_tags[elem] = 1\n",
        "        else:\n",
        "            POS_tags[elem] += 1\n",
        "print(len(POS_tags))\n",
        "print(POS_tags)"
      ],
      "execution_count": null,
      "outputs": [
        {
          "output_type": "stream",
          "text": [
            "36\n",
            "{'NN': 30147, 'IN': 22764, 'DT': 18335, 'VBZ': 4648, 'RB': 6607, 'VBN': 4763, 'TO': 5081, 'VB': 6017, 'JJ': 13085, 'NNS': 13619, 'NNP': 19884, 'PUN': 26009, 'CC': 5372, 'POS': 1769, 'VBP': 2868, 'VBG': 3272, 'PRP$': 1881, 'CD': 8315, 'VBD': 6745, 'EX': 206, 'MD': 2167, 'NNPS': 420, 'PRP': 3820, 'JJS': 374, 'WP': 529, 'RBR': 321, 'JJR': 853, 'WDT': 955, 'WRB': 478, 'RBS': 191, 'PDT': 55, 'RP': 83, 'FW': 38, 'WP$': 35, 'SYM': 6, 'UH': 15}\n"
          ],
          "name": "stdout"
        }
      ]
    },
    {
      "cell_type": "code",
      "metadata": {
        "colab": {
          "base_uri": "https://localhost:8080/",
          "height": 332
        },
        "id": "lnnV8qymfUNC",
        "outputId": "f3b993bb-52df-4fe6-86f7-7f5970a5a4d4"
      },
      "source": [
        "length = []\n",
        "for row in X_train:\n",
        "  length.append(len(row.split()))\n",
        "for row in X_test:\n",
        "  length.append(len(row.split()))\n",
        "\n",
        "mean = sum(length)/len(length)\n",
        "print(f'''Mean = {mean}\n",
        "Max = {max(length)}\n",
        "Min = {min(length)}''')\n",
        "\n",
        "plt.figure(figsize=(10, 4))\n",
        "plt.hist(length)\n",
        "plt.xlabel(\"Length\")\n",
        "plt.ylabel(\"Frequency\")\n",
        "plt.grid(axis='y')\n",
        "plt.show()"
      ],
      "execution_count": null,
      "outputs": [
        {
          "output_type": "stream",
          "text": [
            "Mean = 23.66678845451224\n",
            "Max = 78\n",
            "Min = 1\n"
          ],
          "name": "stdout"
        },
        {
          "output_type": "display_data",
          "data": {
            "image/png": "[encoded data removed]",
            "text/plain": [
              "<Figure size 720x288 with 1 Axes>"
            ]
          },
          "metadata": {
            "tags": [],
            "needs_background": "light"
          }
        }
      ]
    },
    {
      "cell_type": "code",
      "metadata": {
        "id": "uj3w289RllQK"
      },
      "source": [
        "def perform_tokenization(text):\n",
        "    # return the reviews after performing tokenization\n",
        "    tokanized_text = []\n",
        "    for i in range(len(text)):\n",
        "        s = text[i].split()\n",
        "        tokanized_text.append(s)\n",
        "    return tokanized_text "
      ],
      "execution_count": null,
      "outputs": []
    },
    {
      "cell_type": "code",
      "metadata": {
        "id": "rQ7KudJx74fz"
      },
      "source": [
        "def features(sentence, label, index):\n",
        "    \"\"\" sentence: [w1, w2, ...], index: the index of the word \"\"\"\n",
        "    return {\n",
        "        'word': sentence[index],\n",
        "        'is_first': index == 0,\n",
        "        'is_last': index == len(sentence) - 1,\n",
        "        'is_capitalized': sentence[index][0].upper() == sentence[index][0],\n",
        "        'is_all_caps': sentence[index].upper() == sentence[index],\n",
        "        'is_all_lower': sentence[index].lower() == sentence[index],\n",
        "        'prefix-1': sentence[index][0],\n",
        "        'prefix-2': sentence[index][:2],\n",
        "        'suffix-3': sentence[index][-3:],\n",
        "        'prev_word': '' if index == 0 else sentence[index - 1],\n",
        "        'next_word': '' if index == len(sentence) - 1 else sentence[index + 1],\n",
        "        'has_hyphen': '-' in sentence[index],\n",
        "        'is_numeric': sentence[index].isdigit(),\n",
        "        'prev_tag': 'start' if index == 0 else label[index-1]\n",
        "    }"
      ],
      "execution_count": null,
      "outputs": []
    },
    {
      "cell_type": "code",
      "metadata": {
        "id": "hxu9-zZ1ot4J"
      },
      "source": [
        "def preprocess_data(data, labels=None):\n",
        "    data = perform_tokenization(data)\n",
        "    if labels:\n",
        "        data = [[features(sent, labels[j].split(), i) for i, _ in enumerate(sent)] for j, sent in enumerate(data)]\n",
        "        labels = [label.split() for label in labels]\n",
        "    else:\n",
        "        X = []\n",
        "        for sent in data:\n",
        "            feature = []\n",
        "            temp = ['start' for k in range(len(sent))]\n",
        "            for i, _ in enumerate(sent):\n",
        "                feature.append(features(sent, temp, i))\n",
        "        X.append(feature)\n",
        "        data = X.copy()\n",
        "    return data, labels"
      ],
      "execution_count": null,
      "outputs": []
    },
    {
      "cell_type": "code",
      "metadata": {
        "id": "5X5jSfvwxvHd"
      },
      "source": [
        "features_train, tags_train = preprocess_data(X_train, y_train_tags)\n",
        "features_test, tags_test = preprocess_data(X_test, y_test_tags)"
      ],
      "execution_count": null,
      "outputs": []
    },
    {
      "cell_type": "code",
      "metadata": {
        "colab": {
          "base_uri": "https://localhost:8080/"
        },
        "id": "P4TKmm1n8Ac2",
        "outputId": "9a7d0d2c-744f-47f8-9530-f54daf405541"
      },
      "source": [
        "print(len(features_train[0]))\n",
        "print(len(tags_train[0]))\n",
        "print(features_train[0])\n",
        "print(tags_train[0])"
      ],
      "execution_count": null,
      "outputs": [
        {
          "output_type": "stream",
          "text": [
            "37\n",
            "37\n",
            "[{'word': 'Confidence', 'is_first': True, 'is_last': False, 'is_capitalized': True, 'is_all_caps': False, 'is_all_lower': False, 'prefix-1': 'C', 'prefix-2': 'Co', 'suffix-3': 'nce', 'prev_word': '', 'next_word': 'in', 'has_hyphen': False, 'is_numeric': False, 'prev_tag': 'start'}, {'word': 'in', 'is_first': False, 'is_last': False, 'is_capitalized': False, 'is_all_caps': False, 'is_all_lower': True, 'prefix-1': 'i', 'prefix-2': 'in', 'suffix-3': 'in', 'prev_word': 'Confidence', 'next_word': 'the', 'has_hyphen': False, 'is_numeric': False, 'prev_tag': 'NN'}, {'word': 'the', 'is_first': False, 'is_last': False, 'is_capitalized': False, 'is_all_caps': False, 'is_all_lower': True, 'prefix-1': 't', 'prefix-2': 'th', 'suffix-3': 'the', 'prev_word': 'in', 'next_word': 'pound', 'has_hyphen': False, 'is_numeric': False, 'prev_tag': 'IN'}, {'word': 'pound', 'is_first': False, 'is_last': False, 'is_capitalized': False, 'is_all_caps': False, 'is_all_lower': True, 'prefix-1': 'p', 'prefix-2': 'po', 'suffix-3': 'und', 'prev_word': 'the', 'next_word': 'is', 'has_hyphen': False, 'is_numeric': False, 'prev_tag': 'DT'}, {'word': 'is', 'is_first': False, 'is_last': False, 'is_capitalized': False, 'is_all_caps': False, 'is_all_lower': True, 'prefix-1': 'i', 'prefix-2': 'is', 'suffix-3': 'is', 'prev_word': 'pound', 'next_word': 'widely', 'has_hyphen': False, 'is_numeric': False, 'prev_tag': 'NN'}, {'word': 'widely', 'is_first': False, 'is_last': False, 'is_capitalized': False, 'is_all_caps': False, 'is_all_lower': True, 'prefix-1': 'w', 'prefix-2': 'wi', 'suffix-3': 'ely', 'prev_word': 'is', 'next_word': 'expected', 'has_hyphen': False, 'is_numeric': False, 'prev_tag': 'VBZ'}, {'word': 'expected', 'is_first': False, 'is_last': False, 'is_capitalized': False, 'is_all_caps': False, 'is_all_lower': True, 'prefix-1': 'e', 'prefix-2': 'ex', 'suffix-3': 'ted', 'prev_word': 'widely', 'next_word': 'to', 'has_hyphen': False, 'is_numeric': False, 'prev_tag': 'RB'}, {'word': 'to', 'is_first': False, 'is_last': False, 'is_capitalized': False, 'is_all_caps': False, 'is_all_lower': True, 'prefix-1': 't', 'prefix-2': 'to', 'suffix-3': 'to', 'prev_word': 'expected', 'next_word': 'take', 'has_hyphen': False, 'is_numeric': False, 'prev_tag': 'VBN'}, {'word': 'take', 'is_first': False, 'is_last': False, 'is_capitalized': False, 'is_all_caps': False, 'is_all_lower': True, 'prefix-1': 't', 'prefix-2': 'ta', 'suffix-3': 'ake', 'prev_word': 'to', 'next_word': 'another', 'has_hyphen': False, 'is_numeric': False, 'prev_tag': 'TO'}, {'word': 'another', 'is_first': False, 'is_last': False, 'is_capitalized': False, 'is_all_caps': False, 'is_all_lower': True, 'prefix-1': 'a', 'prefix-2': 'an', 'suffix-3': 'her', 'prev_word': 'take', 'next_word': 'sharp', 'has_hyphen': False, 'is_numeric': False, 'prev_tag': 'VB'}, {'word': 'sharp', 'is_first': False, 'is_last': False, 'is_capitalized': False, 'is_all_caps': False, 'is_all_lower': True, 'prefix-1': 's', 'prefix-2': 'sh', 'suffix-3': 'arp', 'prev_word': 'another', 'next_word': 'dive', 'has_hyphen': False, 'is_numeric': False, 'prev_tag': 'DT'}, {'word': 'dive', 'is_first': False, 'is_last': False, 'is_capitalized': False, 'is_all_caps': False, 'is_all_lower': True, 'prefix-1': 'd', 'prefix-2': 'di', 'suffix-3': 'ive', 'prev_word': 'sharp', 'next_word': 'if', 'has_hyphen': False, 'is_numeric': False, 'prev_tag': 'JJ'}, {'word': 'if', 'is_first': False, 'is_last': False, 'is_capitalized': False, 'is_all_caps': False, 'is_all_lower': True, 'prefix-1': 'i', 'prefix-2': 'if', 'suffix-3': 'if', 'prev_word': 'dive', 'next_word': 'trade', 'has_hyphen': False, 'is_numeric': False, 'prev_tag': 'NN'}, {'word': 'trade', 'is_first': False, 'is_last': False, 'is_capitalized': False, 'is_all_caps': False, 'is_all_lower': True, 'prefix-1': 't', 'prefix-2': 'tr', 'suffix-3': 'ade', 'prev_word': 'if', 'next_word': 'figures', 'has_hyphen': False, 'is_numeric': False, 'prev_tag': 'IN'}, {'word': 'figures', 'is_first': False, 'is_last': False, 'is_capitalized': False, 'is_all_caps': False, 'is_all_lower': True, 'prefix-1': 'f', 'prefix-2': 'fi', 'suffix-3': 'res', 'prev_word': 'trade', 'next_word': 'for', 'has_hyphen': False, 'is_numeric': False, 'prev_tag': 'NN'}, {'word': 'for', 'is_first': False, 'is_last': False, 'is_capitalized': False, 'is_all_caps': False, 'is_all_lower': True, 'prefix-1': 'f', 'prefix-2': 'fo', 'suffix-3': 'for', 'prev_word': 'figures', 'next_word': 'September', 'has_hyphen': False, 'is_numeric': False, 'prev_tag': 'NNS'}, {'word': 'September', 'is_first': False, 'is_last': False, 'is_capitalized': True, 'is_all_caps': False, 'is_all_lower': False, 'prefix-1': 'S', 'prefix-2': 'Se', 'suffix-3': 'ber', 'prev_word': 'for', 'next_word': ',', 'has_hyphen': False, 'is_numeric': False, 'prev_tag': 'IN'}, {'word': ',', 'is_first': False, 'is_last': False, 'is_capitalized': True, 'is_all_caps': True, 'is_all_lower': True, 'prefix-1': ',', 'prefix-2': ',', 'suffix-3': ',', 'prev_word': 'September', 'next_word': 'due', 'has_hyphen': False, 'is_numeric': False, 'prev_tag': 'NNP'}, {'word': 'due', 'is_first': False, 'is_last': False, 'is_capitalized': False, 'is_all_caps': False, 'is_all_lower': True, 'prefix-1': 'd', 'prefix-2': 'du', 'suffix-3': 'due', 'prev_word': ',', 'next_word': 'for', 'has_hyphen': False, 'is_numeric': False, 'prev_tag': 'PUN'}, {'word': 'for', 'is_first': False, 'is_last': False, 'is_capitalized': False, 'is_all_caps': False, 'is_all_lower': True, 'prefix-1': 'f', 'prefix-2': 'fo', 'suffix-3': 'for', 'prev_word': 'due', 'next_word': 'release', 'has_hyphen': False, 'is_numeric': False, 'prev_tag': 'JJ'}, {'word': 'release', 'is_first': False, 'is_last': False, 'is_capitalized': False, 'is_all_caps': False, 'is_all_lower': True, 'prefix-1': 'r', 'prefix-2': 're', 'suffix-3': 'ase', 'prev_word': 'for', 'next_word': 'tomorrow', 'has_hyphen': False, 'is_numeric': False, 'prev_tag': 'IN'}, {'word': 'tomorrow', 'is_first': False, 'is_last': False, 'is_capitalized': False, 'is_all_caps': False, 'is_all_lower': True, 'prefix-1': 't', 'prefix-2': 'to', 'suffix-3': 'row', 'prev_word': 'release', 'next_word': ',', 'has_hyphen': False, 'is_numeric': False, 'prev_tag': 'NN'}, {'word': ',', 'is_first': False, 'is_last': False, 'is_capitalized': True, 'is_all_caps': True, 'is_all_lower': True, 'prefix-1': ',', 'prefix-2': ',', 'suffix-3': ',', 'prev_word': 'tomorrow', 'next_word': 'fail', 'has_hyphen': False, 'is_numeric': False, 'prev_tag': 'NN'}, {'word': 'fail', 'is_first': False, 'is_last': False, 'is_capitalized': False, 'is_all_caps': False, 'is_all_lower': True, 'prefix-1': 'f', 'prefix-2': 'fa', 'suffix-3': 'ail', 'prev_word': ',', 'next_word': 'to', 'has_hyphen': False, 'is_numeric': False, 'prev_tag': 'PUN'}, {'word': 'to', 'is_first': False, 'is_last': False, 'is_capitalized': False, 'is_all_caps': False, 'is_all_lower': True, 'prefix-1': 't', 'prefix-2': 'to', 'suffix-3': 'to', 'prev_word': 'fail', 'next_word': 'show', 'has_hyphen': False, 'is_numeric': False, 'prev_tag': 'VB'}, {'word': 'show', 'is_first': False, 'is_last': False, 'is_capitalized': False, 'is_all_caps': False, 'is_all_lower': True, 'prefix-1': 's', 'prefix-2': 'sh', 'suffix-3': 'how', 'prev_word': 'to', 'next_word': 'a', 'has_hyphen': False, 'is_numeric': False, 'prev_tag': 'TO'}, {'word': 'a', 'is_first': False, 'is_last': False, 'is_capitalized': False, 'is_all_caps': False, 'is_all_lower': True, 'prefix-1': 'a', 'prefix-2': 'a', 'suffix-3': 'a', 'prev_word': 'show', 'next_word': 'substantial', 'has_hyphen': False, 'is_numeric': False, 'prev_tag': 'VB'}, {'word': 'substantial', 'is_first': False, 'is_last': False, 'is_capitalized': False, 'is_all_caps': False, 'is_all_lower': True, 'prefix-1': 's', 'prefix-2': 'su', 'suffix-3': 'ial', 'prev_word': 'a', 'next_word': 'improvement', 'has_hyphen': False, 'is_numeric': False, 'prev_tag': 'DT'}, {'word': 'improvement', 'is_first': False, 'is_last': False, 'is_capitalized': False, 'is_all_caps': False, 'is_all_lower': True, 'prefix-1': 'i', 'prefix-2': 'im', 'suffix-3': 'ent', 'prev_word': 'substantial', 'next_word': 'from', 'has_hyphen': False, 'is_numeric': False, 'prev_tag': 'JJ'}, {'word': 'from', 'is_first': False, 'is_last': False, 'is_capitalized': False, 'is_all_caps': False, 'is_all_lower': True, 'prefix-1': 'f', 'prefix-2': 'fr', 'suffix-3': 'rom', 'prev_word': 'improvement', 'next_word': 'July', 'has_hyphen': False, 'is_numeric': False, 'prev_tag': 'NN'}, {'word': 'July', 'is_first': False, 'is_last': False, 'is_capitalized': True, 'is_all_caps': False, 'is_all_lower': False, 'prefix-1': 'J', 'prefix-2': 'Ju', 'suffix-3': 'uly', 'prev_word': 'from', 'next_word': 'and', 'has_hyphen': False, 'is_numeric': False, 'prev_tag': 'IN'}, {'word': 'and', 'is_first': False, 'is_last': False, 'is_capitalized': False, 'is_all_caps': False, 'is_all_lower': True, 'prefix-1': 'a', 'prefix-2': 'an', 'suffix-3': 'and', 'prev_word': 'July', 'next_word': 'August', 'has_hyphen': False, 'is_numeric': False, 'prev_tag': 'NNP'}, {'word': 'August', 'is_first': False, 'is_last': False, 'is_capitalized': True, 'is_all_caps': False, 'is_all_lower': False, 'prefix-1': 'A', 'prefix-2': 'Au', 'suffix-3': 'ust', 'prev_word': 'and', 'next_word': \"'s\", 'has_hyphen': False, 'is_numeric': False, 'prev_tag': 'CC'}, {'word': \"'s\", 'is_first': False, 'is_last': False, 'is_capitalized': True, 'is_all_caps': False, 'is_all_lower': True, 'prefix-1': \"'\", 'prefix-2': \"'s\", 'suffix-3': \"'s\", 'prev_word': 'August', 'next_word': 'near-record', 'has_hyphen': False, 'is_numeric': False, 'prev_tag': 'NNP'}, {'word': 'near-record', 'is_first': False, 'is_last': False, 'is_capitalized': False, 'is_all_caps': False, 'is_all_lower': True, 'prefix-1': 'n', 'prefix-2': 'ne', 'suffix-3': 'ord', 'prev_word': \"'s\", 'next_word': 'deficits', 'has_hyphen': True, 'is_numeric': False, 'prev_tag': 'POS'}, {'word': 'deficits', 'is_first': False, 'is_last': False, 'is_capitalized': False, 'is_all_caps': False, 'is_all_lower': True, 'prefix-1': 'd', 'prefix-2': 'de', 'suffix-3': 'its', 'prev_word': 'near-record', 'next_word': '.', 'has_hyphen': False, 'is_numeric': False, 'prev_tag': 'JJ'}, {'word': '.', 'is_first': False, 'is_last': True, 'is_capitalized': True, 'is_all_caps': True, 'is_all_lower': True, 'prefix-1': '.', 'prefix-2': '.', 'suffix-3': '.', 'prev_word': 'deficits', 'next_word': '', 'has_hyphen': False, 'is_numeric': False, 'prev_tag': 'NNS'}]\n",
            "['NN', 'IN', 'DT', 'NN', 'VBZ', 'RB', 'VBN', 'TO', 'VB', 'DT', 'JJ', 'NN', 'IN', 'NN', 'NNS', 'IN', 'NNP', 'PUN', 'JJ', 'IN', 'NN', 'NN', 'PUN', 'VB', 'TO', 'VB', 'DT', 'JJ', 'NN', 'IN', 'NNP', 'CC', 'NNP', 'POS', 'JJ', 'NNS', 'PUN']\n"
          ],
          "name": "stdout"
        }
      ]
    },
    {
      "cell_type": "code",
      "metadata": {
        "colab": {
          "base_uri": "https://localhost:8080/"
        },
        "id": "van6Btmuran1",
        "outputId": "25cd07ee-6f48-4ac4-9f5e-5cf10c04d259"
      },
      "source": [
        "tag_vocabulary = list(POS_tags.keys())\n",
        "print(tag_vocabulary)"
      ],
      "execution_count": null,
      "outputs": [
        {
          "output_type": "stream",
          "text": [
            "['NN', 'IN', 'DT', 'VBZ', 'RB', 'VBN', 'TO', 'VB', 'JJ', 'NNS', 'NNP', 'PUN', 'CC', 'POS', 'VBP', 'VBG', 'PRP$', 'CD', 'VBD', 'EX', 'MD', 'NNPS', 'PRP', 'JJS', 'WP', 'RBR', 'JJR', 'WDT', 'WRB', 'RBS', 'PDT', 'RP', 'FW', 'WP$', 'SYM', 'UH']\n"
          ],
          "name": "stdout"
        }
      ]
    },
    {
      "cell_type": "code",
      "metadata": {
        "id": "uKm7aC0-zGoY"
      },
      "source": [
        "train_set = []\n",
        "for i in range(len(tags_train)):\n",
        "    for j in range(len(tags_train[i])):\n",
        "        train_set.append((features_train[i][j], tags_train[i][j]))\n",
        "\n",
        "test_set = []\n",
        "for i in range(len(tags_test)):\n",
        "    for j in range(len(tags_test[i])):\n",
        "        test_set.append((features_test[i][j], tags_test[i][j]))"
      ],
      "execution_count": null,
      "outputs": []
    },
    {
      "cell_type": "code",
      "metadata": {
        "colab": {
          "base_uri": "https://localhost:8080/"
        },
        "id": "Ngr1mgNO3Dzy",
        "outputId": "f2ecfc69-d533-4cf2-fd19-f733d956bea4"
      },
      "source": [
        "len(train_set)"
      ],
      "execution_count": null,
      "outputs": [
        {
          "output_type": "execute_result",
          "data": {
            "text/plain": [
              "211727"
            ]
          },
          "metadata": {
            "tags": []
          },
          "execution_count": 22
        }
      ]
    },
    {
      "cell_type": "code",
      "metadata": {
        "id": "BK_XXyGRyFac"
      },
      "source": [
        "maxent_classifier = MaxentClassifier.train(train_set, max_iter=5)"
      ],
      "execution_count": null,
      "outputs": []
    },
    {
      "cell_type": "code",
      "metadata": {
        "id": "q4vGdEUIOWxz"
      },
      "source": [
        "with open('maxent_classifier.pkl', 'wb') as f:\n",
        "    pickle.dump(maxent_classifier, f)"
      ],
      "execution_count": null,
      "outputs": []
    },
    {
      "cell_type": "code",
      "metadata": {
        "id": "s3vKNypfjkXH"
      },
      "source": [
        "with open('maxent_classifier.pkl', 'rb') as f:\n",
        "    maxent_classifier = pickle.load(f)"
      ],
      "execution_count": null,
      "outputs": []
    },
    {
      "cell_type": "code",
      "metadata": {
        "id": "KnccRTnSXeZI",
        "colab": {
          "base_uri": "https://localhost:8080/"
        },
        "outputId": "3da4ade0-7879-4f9f-c3ac-6a0d94cc1558"
      },
      "source": [
        "tags_list = maxent_classifier.labels().copy()\n",
        "print(tags_list)"
      ],
      "execution_count": null,
      "outputs": [
        {
          "output_type": "stream",
          "text": [
            "['VBP', 'RBS', 'NN', 'UH', 'PDT', 'JJR', 'TO', 'DT', 'VBG', 'MD', 'CC', 'JJ', 'JJS', 'POS', 'WRB', 'WP', 'RBR', 'PRP', 'VBD', 'PRP$', 'VB', 'NNS', 'NNP', 'EX', 'WDT', 'VBZ', 'PUN', 'FW', 'CD', 'SYM', 'NNPS', 'RB', 'VBN', 'WP$', 'RP', 'IN']\n"
          ],
          "name": "stdout"
        }
      ]
    },
    {
      "cell_type": "code",
      "metadata": {
        "id": "iNe7VEglHxIZ"
      },
      "source": [
        "def viterbi(features, model, tags_list):\n",
        "    sent_len = len(features)\n",
        "    dp = np.ones((sent_len, len(tags_list)))\n",
        "    bp = np.ones((sent_len, len(tags_list)))\n",
        "\n",
        "    for i in range(len(tags_list)):\n",
        "        features[0]['prev_tag'] = 'start'\n",
        "        pmf = model.prob_classify(features[0])\n",
        "        prob = float(pmf.prob(tags_list[i]))\n",
        "        dp[0,i] = prob\n",
        "\n",
        "    for i in range(1, dp.shape[0]):\n",
        "        for j in range(dp.shape[1]):\n",
        "            temp = []\n",
        "            for k in range(dp.shape[1]):\n",
        "                features[i]['prev_tag'] = tags_list[k]\n",
        "                pmf = model.prob_classify(features[i])\n",
        "                prob = float(pmf.prob(tags_list[j]))\n",
        "                mult = dp[i-1,k]*prob\n",
        "                temp.append(mult)\n",
        "            dp[i,j] = max(temp)\n",
        "            bp[i,j] = np.argmax(temp)\n",
        "\n",
        "    pred_tags = np.zeros(sent_len)\n",
        "    pred_tags[-1] = np.argmax(dp[-1])\n",
        "    for i in range(sent_len-2, -1, -1):\n",
        "        pred_tags[i] = bp[i+1, int(pred_tags[i+1])]\n",
        "\n",
        "    return [tags_list[int(k)] for k in pred_tags]"
      ],
      "execution_count": null,
      "outputs": []
    },
    {
      "cell_type": "code",
      "metadata": {
        "id": "C7DYlUrPlUx5"
      },
      "source": [
        "test_features = [elem[0] for elem in test_set]\n",
        "test_labels = [elem[1] for elem in test_set]"
      ],
      "execution_count": null,
      "outputs": []
    },
    {
      "cell_type": "code",
      "metadata": {
        "id": "Srkp67tazSx1"
      },
      "source": [
        "def test_model(sent_features, ytrue, model):\n",
        "    pred_tags = []\n",
        "    labels = []\n",
        "    for i in range(len(sent_features)):\n",
        "        if i%5==0:\n",
        "            print(f\"Processing sentence {i+1}...\")\n",
        "        tags = viterbi(sent_features[i], model, tags_list)\n",
        "        pred_tags += tags\n",
        "        labels += ytrue[i]\n",
        "    return pred_tags, labels"
      ],
      "execution_count": null,
      "outputs": []
    },
    {
      "cell_type": "code",
      "metadata": {
        "id": "3dt53yTdfeUb"
      },
      "source": [
        "tags, labels = test_model(features_test[:1000], tags_test[:1000], maxent_classifier)"
      ],
      "execution_count": null,
      "outputs": []
    },
    {
      "cell_type": "code",
      "metadata": {
        "id": "mDko4M0rwp5w"
      },
      "source": [
        "def accuracy(ypred, ytrue):\n",
        "    assert len(ypred)==len(ytrue)\n",
        "    total = len(ytrue)\n",
        "    correct = 0\n",
        "    for pred, true in zip(ypred, ytrue):\n",
        "        if pred == true:\n",
        "            correct += 1\n",
        "    print(correct, total)\n",
        "    return float(correct) / float(total)"
      ],
      "execution_count": null,
      "outputs": []
    },
    {
      "cell_type": "code",
      "metadata": {
        "id": "dYoeOjGziHAV"
      },
      "source": [
        "acc = accuracy(tags, labels)\n",
        "print(acc)"
      ],
      "execution_count": null,
      "outputs": []
    },
    {
      "cell_type": "code",
      "metadata": {
        "id": "beNC81T63aQ2"
      },
      "source": [
        "def tag_sentence(sent, model, tags_list):\n",
        "    data, _ = preprocess_data(sent)\n",
        "    print(data[0])\n",
        "    print(len(data[0]))\n",
        "    tags = viterbi(data[0], model, tags_list)\n",
        "    print(len(tags))\n",
        "    return tags"
      ],
      "execution_count": null,
      "outputs": []
    },
    {
      "cell_type": "code",
      "metadata": {
        "id": "JcPK2hPC5x4G",
        "colab": {
          "base_uri": "https://localhost:8080/"
        },
        "outputId": "c47f06fb-d1f0-4333-e06d-b3142e181706"
      },
      "source": [
        "s = [\"Hello , my name is Shyam and I am a student at EPFL university in Switzerland .\"]\n",
        "\n",
        "tag_sentence(s, maxent_classifier, tags_list)"
      ],
      "execution_count": null,
      "outputs": [
        {
          "output_type": "stream",
          "text": [
            "[{'word': 'Hello', 'is_first': True, 'is_last': False, 'is_capitalized': True, 'is_all_caps': False, 'is_all_lower': False, 'prefix-1': 'H', 'prefix-2': 'He', 'suffix-3': 'llo', 'prev_word': '', 'next_word': ',', 'has_hyphen': False, 'is_numeric': False, 'prev_tag': 'start'}, {'word': ',', 'is_first': False, 'is_last': False, 'is_capitalized': True, 'is_all_caps': True, 'is_all_lower': True, 'prefix-1': ',', 'prefix-2': ',', 'suffix-3': ',', 'prev_word': 'Hello', 'next_word': 'my', 'has_hyphen': False, 'is_numeric': False, 'prev_tag': 'start'}, {'word': 'my', 'is_first': False, 'is_last': False, 'is_capitalized': False, 'is_all_caps': False, 'is_all_lower': True, 'prefix-1': 'm', 'prefix-2': 'my', 'suffix-3': 'my', 'prev_word': ',', 'next_word': 'name', 'has_hyphen': False, 'is_numeric': False, 'prev_tag': 'start'}, {'word': 'name', 'is_first': False, 'is_last': False, 'is_capitalized': False, 'is_all_caps': False, 'is_all_lower': True, 'prefix-1': 'n', 'prefix-2': 'na', 'suffix-3': 'ame', 'prev_word': 'my', 'next_word': 'is', 'has_hyphen': False, 'is_numeric': False, 'prev_tag': 'start'}, {'word': 'is', 'is_first': False, 'is_last': False, 'is_capitalized': False, 'is_all_caps': False, 'is_all_lower': True, 'prefix-1': 'i', 'prefix-2': 'is', 'suffix-3': 'is', 'prev_word': 'name', 'next_word': 'Shyam', 'has_hyphen': False, 'is_numeric': False, 'prev_tag': 'start'}, {'word': 'Shyam', 'is_first': False, 'is_last': False, 'is_capitalized': True, 'is_all_caps': False, 'is_all_lower': False, 'prefix-1': 'S', 'prefix-2': 'Sh', 'suffix-3': 'yam', 'prev_word': 'is', 'next_word': 'and', 'has_hyphen': False, 'is_numeric': False, 'prev_tag': 'start'}, {'word': 'and', 'is_first': False, 'is_last': False, 'is_capitalized': False, 'is_all_caps': False, 'is_all_lower': True, 'prefix-1': 'a', 'prefix-2': 'an', 'suffix-3': 'and', 'prev_word': 'Shyam', 'next_word': 'I', 'has_hyphen': False, 'is_numeric': False, 'prev_tag': 'start'}, {'word': 'I', 'is_first': False, 'is_last': False, 'is_capitalized': True, 'is_all_caps': True, 'is_all_lower': False, 'prefix-1': 'I', 'prefix-2': 'I', 'suffix-3': 'I', 'prev_word': 'and', 'next_word': 'am', 'has_hyphen': False, 'is_numeric': False, 'prev_tag': 'start'}, {'word': 'am', 'is_first': False, 'is_last': False, 'is_capitalized': False, 'is_all_caps': False, 'is_all_lower': True, 'prefix-1': 'a', 'prefix-2': 'am', 'suffix-3': 'am', 'prev_word': 'I', 'next_word': 'a', 'has_hyphen': False, 'is_numeric': False, 'prev_tag': 'start'}, {'word': 'a', 'is_first': False, 'is_last': False, 'is_capitalized': False, 'is_all_caps': False, 'is_all_lower': True, 'prefix-1': 'a', 'prefix-2': 'a', 'suffix-3': 'a', 'prev_word': 'am', 'next_word': 'student', 'has_hyphen': False, 'is_numeric': False, 'prev_tag': 'start'}, {'word': 'student', 'is_first': False, 'is_last': False, 'is_capitalized': False, 'is_all_caps': False, 'is_all_lower': True, 'prefix-1': 's', 'prefix-2': 'st', 'suffix-3': 'ent', 'prev_word': 'a', 'next_word': 'at', 'has_hyphen': False, 'is_numeric': False, 'prev_tag': 'start'}, {'word': 'at', 'is_first': False, 'is_last': False, 'is_capitalized': False, 'is_all_caps': False, 'is_all_lower': True, 'prefix-1': 'a', 'prefix-2': 'at', 'suffix-3': 'at', 'prev_word': 'student', 'next_word': 'EPFL', 'has_hyphen': False, 'is_numeric': False, 'prev_tag': 'start'}, {'word': 'EPFL', 'is_first': False, 'is_last': False, 'is_capitalized': True, 'is_all_caps': True, 'is_all_lower': False, 'prefix-1': 'E', 'prefix-2': 'EP', 'suffix-3': 'PFL', 'prev_word': 'at', 'next_word': 'university', 'has_hyphen': False, 'is_numeric': False, 'prev_tag': 'start'}, {'word': 'university', 'is_first': False, 'is_last': False, 'is_capitalized': False, 'is_all_caps': False, 'is_all_lower': True, 'prefix-1': 'u', 'prefix-2': 'un', 'suffix-3': 'ity', 'prev_word': 'EPFL', 'next_word': 'in', 'has_hyphen': False, 'is_numeric': False, 'prev_tag': 'start'}, {'word': 'in', 'is_first': False, 'is_last': False, 'is_capitalized': False, 'is_all_caps': False, 'is_all_lower': True, 'prefix-1': 'i', 'prefix-2': 'in', 'suffix-3': 'in', 'prev_word': 'university', 'next_word': 'Switzerland', 'has_hyphen': False, 'is_numeric': False, 'prev_tag': 'start'}, {'word': 'Switzerland', 'is_first': False, 'is_last': False, 'is_capitalized': True, 'is_all_caps': False, 'is_all_lower': False, 'prefix-1': 'S', 'prefix-2': 'Sw', 'suffix-3': 'and', 'prev_word': 'in', 'next_word': '.', 'has_hyphen': False, 'is_numeric': False, 'prev_tag': 'start'}, {'word': '.', 'is_first': False, 'is_last': True, 'is_capitalized': True, 'is_all_caps': True, 'is_all_lower': True, 'prefix-1': '.', 'prefix-2': '.', 'suffix-3': '.', 'prev_word': 'Switzerland', 'next_word': '', 'has_hyphen': False, 'is_numeric': False, 'prev_tag': 'start'}]\n",
            "17\n",
            "17\n"
          ],
          "name": "stdout"
        },
        {
          "output_type": "execute_result",
          "data": {
            "text/plain": [
              "['NNP',\n",
              " 'PUN',\n",
              " 'DT',\n",
              " 'NN',\n",
              " 'VBZ',\n",
              " 'NNP',\n",
              " 'CC',\n",
              " 'PRP',\n",
              " 'VBP',\n",
              " 'DT',\n",
              " 'NN',\n",
              " 'IN',\n",
              " 'NNP',\n",
              " 'NN',\n",
              " 'IN',\n",
              " 'NNP',\n",
              " 'PUN']"
            ]
          },
          "metadata": {
            "tags": []
          },
          "execution_count": 93
        }
      ]
    },
    {
      "cell_type": "code",
      "metadata": {
        "id": "fuWasDM3IWei"
      },
      "source": [
        ""
      ],
      "execution_count": null,
      "outputs": []
    }
  ]
}