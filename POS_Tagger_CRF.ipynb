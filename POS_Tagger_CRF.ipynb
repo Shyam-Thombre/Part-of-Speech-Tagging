{
  "nbformat": 4,
  "nbformat_minor": 0,
  "metadata": {
    "colab": {
      "name": "POS_Tagger_CRF.ipynb",
      "provenance": [],
      "collapsed_sections": []
    },
    "kernelspec": {
      "name": "python3",
      "display_name": "Python 3"
    },
    "language_info": {
      "name": "python"
    }
  },
  "cells": [
    {
      "cell_type": "code",
      "metadata": {
        "id": "oWWOcCG48YXR"
      },
      "source": [
        "!mkdir pos_tagger"
      ],
      "execution_count": null,
      "outputs": []
    },
    {
      "cell_type": "code",
      "metadata": {
        "colab": {
          "base_uri": "https://localhost:8080/"
        },
        "id": "ITknXBMj9P1W",
        "outputId": "58260d5e-1fdf-425a-ac7f-f2dca4b590e5"
      },
      "source": [
        "cd pos_tagger"
      ],
      "execution_count": null,
      "outputs": [
        {
          "output_type": "stream",
          "text": [
            "/content/pos_tagger\n"
          ],
          "name": "stdout"
        }
      ]
    },
    {
      "cell_type": "code",
      "metadata": {
        "colab": {
          "base_uri": "https://localhost:8080/"
        },
        "id": "DfCGg7Ke8Zxx",
        "outputId": "ca61729a-eb40-4164-f121-31e2171e53c1"
      },
      "source": [
        "!wget http://www.cnts.ua.ac.be/conll2000/chunking/train.txt.gz -O - | gunzip | cut -f1,2 -d\" \" > pos.train.txt"
      ],
      "execution_count": null,
      "outputs": [
        {
          "output_type": "stream",
          "text": [
            "--2021-08-18 13:31:19--  http://www.cnts.ua.ac.be/conll2000/chunking/train.txt.gz\n",
            "Resolving www.cnts.ua.ac.be (www.cnts.ua.ac.be)... 146.175.13.81\n",
            "Connecting to www.cnts.ua.ac.be (www.cnts.ua.ac.be)|146.175.13.81|:80... connected.\n",
            "HTTP request sent, awaiting response... 301 Moved Permanently\n",
            "Location: https://www.clips.uantwerpen.be/conll2000/chunking/train.txt.gz [following]\n",
            "--2021-08-18 13:31:20--  https://www.clips.uantwerpen.be/conll2000/chunking/train.txt.gz\n",
            "Resolving www.clips.uantwerpen.be (www.clips.uantwerpen.be)... 146.175.13.81\n",
            "Connecting to www.clips.uantwerpen.be (www.clips.uantwerpen.be)|146.175.13.81|:443... connected.\n",
            "HTTP request sent, awaiting response... 200 OK\n",
            "Length: 611540 (597K) [application/x-gzip]\n",
            "Saving to: ‘STDOUT’\n",
            "\n",
            "-                   100%[===================>] 597.21K   833KB/s    in 0.7s    \n",
            "\n",
            "2021-08-18 13:31:21 (833 KB/s) - written to stdout [611540/611540]\n",
            "\n"
          ],
          "name": "stdout"
        }
      ]
    },
    {
      "cell_type": "code",
      "metadata": {
        "colab": {
          "base_uri": "https://localhost:8080/"
        },
        "id": "0c0q0RxD9V0K",
        "outputId": "49f6c3af-c852-4f77-ff0e-7c0379d6fa2c"
      },
      "source": [
        "!wget http://www.cnts.ua.ac.be/conll2000/chunking/test.txt.gz -O - | gunzip | cut -f1,2 -d \" \" > pos.test.txt"
      ],
      "execution_count": null,
      "outputs": [
        {
          "output_type": "stream",
          "text": [
            "--2021-08-18 13:31:21--  http://www.cnts.ua.ac.be/conll2000/chunking/test.txt.gz\n",
            "Resolving www.cnts.ua.ac.be (www.cnts.ua.ac.be)... 146.175.13.81\n",
            "Connecting to www.cnts.ua.ac.be (www.cnts.ua.ac.be)|146.175.13.81|:80... connected.\n",
            "HTTP request sent, awaiting response... 301 Moved Permanently\n",
            "Location: https://www.clips.uantwerpen.be/conll2000/chunking/test.txt.gz [following]\n",
            "--2021-08-18 13:31:22--  https://www.clips.uantwerpen.be/conll2000/chunking/test.txt.gz\n",
            "Resolving www.clips.uantwerpen.be (www.clips.uantwerpen.be)... 146.175.13.81\n",
            "Connecting to www.clips.uantwerpen.be (www.clips.uantwerpen.be)|146.175.13.81|:443... connected.\n",
            "HTTP request sent, awaiting response... 200 OK\n",
            "Length: 139551 (136K) [application/x-gzip]\n",
            "Saving to: ‘STDOUT’\n",
            "\n",
            "-                   100%[===================>] 136.28K   319KB/s    in 0.4s    \n",
            "\n",
            "2021-08-18 13:31:23 (319 KB/s) - written to stdout [139551/139551]\n",
            "\n"
          ],
          "name": "stdout"
        }
      ]
    },
    {
      "cell_type": "code",
      "metadata": {
        "colab": {
          "base_uri": "https://localhost:8080/"
        },
        "id": "RHyOefhj4txR",
        "outputId": "89a6dc5d-a92a-40a2-f952-075ef3fdfdf6"
      },
      "source": [
        "!pip install sklearn-crfsuite"
      ],
      "execution_count": null,
      "outputs": [
        {
          "output_type": "stream",
          "text": [
            "Collecting sklearn-crfsuite\n",
            "  Downloading sklearn_crfsuite-0.3.6-py2.py3-none-any.whl (12 kB)\n",
            "Requirement already satisfied: six in /usr/local/lib/python3.7/dist-packages (from sklearn-crfsuite) (1.15.0)\n",
            "Requirement already satisfied: tabulate in /usr/local/lib/python3.7/dist-packages (from sklearn-crfsuite) (0.8.9)\n",
            "Collecting python-crfsuite>=0.8.3\n",
            "  Downloading python_crfsuite-0.9.7-cp37-cp37m-manylinux1_x86_64.whl (743 kB)\n",
            "\u001b[K     |████████████████████████████████| 743 kB 8.1 MB/s \n",
            "\u001b[?25hRequirement already satisfied: tqdm>=2.0 in /usr/local/lib/python3.7/dist-packages (from sklearn-crfsuite) (4.62.0)\n",
            "Installing collected packages: python-crfsuite, sklearn-crfsuite\n",
            "Successfully installed python-crfsuite-0.9.7 sklearn-crfsuite-0.3.6\n"
          ],
          "name": "stdout"
        }
      ]
    },
    {
      "cell_type": "code",
      "metadata": {
        "colab": {
          "base_uri": "https://localhost:8080/"
        },
        "id": "mGYk_FU7l8eH",
        "outputId": "6b78eb9b-8b50-4174-8531-a8d1ab2e161f"
      },
      "source": [
        "import nltk\n",
        "nltk.download('stopwords')"
      ],
      "execution_count": null,
      "outputs": [
        {
          "output_type": "stream",
          "text": [
            "[nltk_data] Downloading package stopwords to /root/nltk_data...\n",
            "[nltk_data]   Unzipping corpora/stopwords.zip.\n"
          ],
          "name": "stdout"
        },
        {
          "output_type": "execute_result",
          "data": {
            "text/plain": [
              "True"
            ]
          },
          "metadata": {
            "tags": []
          },
          "execution_count": 6
        }
      ]
    },
    {
      "cell_type": "code",
      "metadata": {
        "id": "iDWcljAbOA_C"
      },
      "source": [
        "import os\n",
        "import pandas as pd\n",
        "\n",
        "import torch\n",
        "import torch.nn as nn\n",
        "import torch.nn.functional as F\n",
        "from torch.autograd import Variable\n",
        "\n",
        "import numpy as np\n",
        "import matplotlib.pyplot as plt\n",
        "import time\n",
        "from sklearn.utils import shuffle\n",
        "from sklearn.metrics import confusion_matrix, accuracy_score, f1_score, precision_score, recall_score\n",
        "\n",
        "from nltk.corpus import stopwords\n",
        "import string\n",
        "import re\n",
        "import spacy\n",
        "\n",
        "from collections import Counter"
      ],
      "execution_count": null,
      "outputs": []
    },
    {
      "cell_type": "code",
      "metadata": {
        "id": "TeBYYpX4OKnu"
      },
      "source": [
        "np.random.seed(20)"
      ],
      "execution_count": null,
      "outputs": []
    },
    {
      "cell_type": "code",
      "metadata": {
        "id": "7uc5RanSeVAs"
      },
      "source": [
        "remove_tags = ['.',',','(',')',':','``',\"''\",'#','$']"
      ],
      "execution_count": null,
      "outputs": []
    },
    {
      "cell_type": "code",
      "metadata": {
        "id": "O8mkmUcN_RYJ"
      },
      "source": [
        "train_file = \"pos.train.txt\"\n",
        "test_file = \"pos.test.txt\"\n",
        "\n",
        "def create_dataset(filename):\n",
        "    data = []\n",
        "    label = []\n",
        "    with open(filename, 'r') as f:\n",
        "        x = []\n",
        "        y = []\n",
        "        for line in f:\n",
        "            s = line.split()\n",
        "            if s == []:\n",
        "                data.append(\" \".join(x))\n",
        "                label.append(\" \".join(y))\n",
        "                x = []\n",
        "                y = []\n",
        "                continue\n",
        "            x.append(s[0])\n",
        "            if s[1] in remove_tags:\n",
        "                y.append(\"PUN\")\n",
        "            else:\n",
        "                y.append(s[1])\n",
        "    return data, label\n",
        "\n",
        "X_train, y_train_tags = create_dataset(train_file)\n",
        "X_test, y_test_tags = create_dataset(test_file)"
      ],
      "execution_count": null,
      "outputs": []
    },
    {
      "cell_type": "code",
      "metadata": {
        "colab": {
          "base_uri": "https://localhost:8080/"
        },
        "id": "jU4NaVlYNDVl",
        "outputId": "e3d61c2d-7ccf-4784-c585-f7fc7f7d69a0"
      },
      "source": [
        "POS_tags = {}\n",
        "for line in y_train_tags:\n",
        "    s = line.split()\n",
        "    for elem in s:\n",
        "        if elem not in POS_tags:\n",
        "            POS_tags[elem] = 1\n",
        "        else:\n",
        "            POS_tags[elem] += 1\n",
        "print(len(POS_tags))\n",
        "print(POS_tags)"
      ],
      "execution_count": null,
      "outputs": [
        {
          "output_type": "stream",
          "text": [
            "36\n",
            "{'NN': 30147, 'IN': 22764, 'DT': 18335, 'VBZ': 4648, 'RB': 6607, 'VBN': 4763, 'TO': 5081, 'VB': 6017, 'JJ': 13085, 'NNS': 13619, 'NNP': 19884, 'PUN': 26009, 'CC': 5372, 'POS': 1769, 'VBP': 2868, 'VBG': 3272, 'PRP$': 1881, 'CD': 8315, 'VBD': 6745, 'EX': 206, 'MD': 2167, 'NNPS': 420, 'PRP': 3820, 'JJS': 374, 'WP': 529, 'RBR': 321, 'JJR': 853, 'WDT': 955, 'WRB': 478, 'RBS': 191, 'PDT': 55, 'RP': 83, 'FW': 38, 'WP$': 35, 'SYM': 6, 'UH': 15}\n"
          ],
          "name": "stdout"
        }
      ]
    },
    {
      "cell_type": "code",
      "metadata": {
        "colab": {
          "base_uri": "https://localhost:8080/",
          "height": 332
        },
        "id": "lnnV8qymfUNC",
        "outputId": "afbbd284-e98a-49e2-e8be-1c96a243df93"
      },
      "source": [
        "length = []\n",
        "for row in X_train:\n",
        "  length.append(len(row.split()))\n",
        "for row in X_test:\n",
        "  length.append(len(row.split()))\n",
        "\n",
        "mean = sum(length)/len(length)\n",
        "print(f'''Mean = {mean}\n",
        "Max = {max(length)}\n",
        "Min = {min(length)}''')\n",
        "\n",
        "plt.figure(figsize=(10, 4))\n",
        "plt.hist(length)\n",
        "plt.xlabel(\"Length\")\n",
        "plt.ylabel(\"Frequency\")\n",
        "plt.grid(axis='y')\n",
        "plt.show()"
      ],
      "execution_count": null,
      "outputs": [
        {
          "output_type": "stream",
          "text": [
            "Mean = 23.66678845451224\n",
            "Max = 78\n",
            "Min = 1\n"
          ],
          "name": "stdout"
        },
        {
          "output_type": "display_data",
          "data": {
            "image/png": "[encoded data removed]",
            "text/plain": [
              "<Figure size 720x288 with 1 Axes>"
            ]
          },
          "metadata": {
            "tags": [],
            "needs_background": "light"
          }
        }
      ]
    },
    {
      "cell_type": "code",
      "metadata": {
        "id": "athGKhEWidaB"
      },
      "source": [
        "def convert_to_lower(text):\n",
        "    # return the reviews after convering then to lowercase\n",
        "    for i in range(len(text)):\n",
        "        text[i] = text[i].lower()\n",
        "    return text"
      ],
      "execution_count": null,
      "outputs": []
    },
    {
      "cell_type": "code",
      "metadata": {
        "id": "uj3w289RllQK"
      },
      "source": [
        "def perform_tokenization(text):\n",
        "    # return the reviews after performing tokenization\n",
        "    tokanized_text = []\n",
        "    for i in range(len(text)):\n",
        "        s = text[i].split()\n",
        "        tokanized_text.append(s)\n",
        "    return tokanized_text "
      ],
      "execution_count": null,
      "outputs": []
    },
    {
      "cell_type": "code",
      "metadata": {
        "id": "rQ7KudJx74fz"
      },
      "source": [
        "def features(sentence, index):\n",
        "    \"\"\" sentence: [w1, w2, ...], index: the index of the word \"\"\"\n",
        "    return {\n",
        "        'word': sentence[index],\n",
        "        'is_first': index == 0,\n",
        "        'is_last': index == len(sentence) - 1,\n",
        "        'is_capitalized': sentence[index][0].upper() == sentence[index][0],\n",
        "        'is_all_caps': sentence[index].upper() == sentence[index],\n",
        "        'is_all_lower': sentence[index].lower() == sentence[index],\n",
        "        'prefix-1': sentence[index][0],\n",
        "        'prefix-2': sentence[index][:2],\n",
        "        'prefix-3': sentence[index][:3],\n",
        "        'suffix-1': sentence[index][-1],\n",
        "        'suffix-2': sentence[index][-2:],\n",
        "        'suffix-3': sentence[index][-3:],\n",
        "        'prev_word': '' if index == 0 else sentence[index - 1],\n",
        "        'next_word': '' if index == len(sentence) - 1 else sentence[index + 1],\n",
        "        'has_hyphen': '-' in sentence[index],\n",
        "        'is_numeric': sentence[index].isdigit(),\n",
        "        'capitals_inside': sentence[index][1:].lower() != sentence[index][1:]\n",
        "    }"
      ],
      "execution_count": null,
      "outputs": []
    },
    {
      "cell_type": "code",
      "metadata": {
        "id": "hxu9-zZ1ot4J"
      },
      "source": [
        "def preprocess_data(data, labels=None):\n",
        "    # data = convert_to_lower(data)\n",
        "    data = perform_tokenization(data)\n",
        "    data = [[features(sent, i) for i, _ in enumerate(sent)] for sent in data]\n",
        "    if labels:\n",
        "        labels = [label.split() for label in labels]\n",
        "    return data, labels"
      ],
      "execution_count": null,
      "outputs": []
    },
    {
      "cell_type": "code",
      "metadata": {
        "id": "5X5jSfvwxvHd"
      },
      "source": [
        "X_train, y_train = preprocess_data(X_train, y_train_tags)\n",
        "X_test, y_test = preprocess_data(X_test, y_test_tags)"
      ],
      "execution_count": null,
      "outputs": []
    },
    {
      "cell_type": "code",
      "metadata": {
        "colab": {
          "base_uri": "https://localhost:8080/"
        },
        "id": "P4TKmm1n8Ac2",
        "outputId": "fc570da6-474f-4acf-8185-ce65a95d35e2"
      },
      "source": [
        "print(len(X_train[0]))\n",
        "print(len(y_train[0]))\n",
        "print(X_train[0])\n",
        "print(y_train[0])"
      ],
      "execution_count": null,
      "outputs": [
        {
          "output_type": "stream",
          "text": [
            "37\n",
            "37\n",
            "[{'word': 'Confidence', 'is_first': True, 'is_last': False, 'is_capitalized': True, 'is_all_caps': False, 'is_all_lower': False, 'prefix-1': 'C', 'prefix-2': 'Co', 'prefix-3': 'Con', 'suffix-1': 'e', 'suffix-2': 'ce', 'suffix-3': 'nce', 'prev_word': '', 'next_word': 'in', 'has_hyphen': False, 'is_numeric': False, 'capitals_inside': False}, {'word': 'in', 'is_first': False, 'is_last': False, 'is_capitalized': False, 'is_all_caps': False, 'is_all_lower': True, 'prefix-1': 'i', 'prefix-2': 'in', 'prefix-3': 'in', 'suffix-1': 'n', 'suffix-2': 'in', 'suffix-3': 'in', 'prev_word': 'Confidence', 'next_word': 'the', 'has_hyphen': False, 'is_numeric': False, 'capitals_inside': False}, {'word': 'the', 'is_first': False, 'is_last': False, 'is_capitalized': False, 'is_all_caps': False, 'is_all_lower': True, 'prefix-1': 't', 'prefix-2': 'th', 'prefix-3': 'the', 'suffix-1': 'e', 'suffix-2': 'he', 'suffix-3': 'the', 'prev_word': 'in', 'next_word': 'pound', 'has_hyphen': False, 'is_numeric': False, 'capitals_inside': False}, {'word': 'pound', 'is_first': False, 'is_last': False, 'is_capitalized': False, 'is_all_caps': False, 'is_all_lower': True, 'prefix-1': 'p', 'prefix-2': 'po', 'prefix-3': 'pou', 'suffix-1': 'd', 'suffix-2': 'nd', 'suffix-3': 'und', 'prev_word': 'the', 'next_word': 'is', 'has_hyphen': False, 'is_numeric': False, 'capitals_inside': False}, {'word': 'is', 'is_first': False, 'is_last': False, 'is_capitalized': False, 'is_all_caps': False, 'is_all_lower': True, 'prefix-1': 'i', 'prefix-2': 'is', 'prefix-3': 'is', 'suffix-1': 's', 'suffix-2': 'is', 'suffix-3': 'is', 'prev_word': 'pound', 'next_word': 'widely', 'has_hyphen': False, 'is_numeric': False, 'capitals_inside': False}, {'word': 'widely', 'is_first': False, 'is_last': False, 'is_capitalized': False, 'is_all_caps': False, 'is_all_lower': True, 'prefix-1': 'w', 'prefix-2': 'wi', 'prefix-3': 'wid', 'suffix-1': 'y', 'suffix-2': 'ly', 'suffix-3': 'ely', 'prev_word': 'is', 'next_word': 'expected', 'has_hyphen': False, 'is_numeric': False, 'capitals_inside': False}, {'word': 'expected', 'is_first': False, 'is_last': False, 'is_capitalized': False, 'is_all_caps': False, 'is_all_lower': True, 'prefix-1': 'e', 'prefix-2': 'ex', 'prefix-3': 'exp', 'suffix-1': 'd', 'suffix-2': 'ed', 'suffix-3': 'ted', 'prev_word': 'widely', 'next_word': 'to', 'has_hyphen': False, 'is_numeric': False, 'capitals_inside': False}, {'word': 'to', 'is_first': False, 'is_last': False, 'is_capitalized': False, 'is_all_caps': False, 'is_all_lower': True, 'prefix-1': 't', 'prefix-2': 'to', 'prefix-3': 'to', 'suffix-1': 'o', 'suffix-2': 'to', 'suffix-3': 'to', 'prev_word': 'expected', 'next_word': 'take', 'has_hyphen': False, 'is_numeric': False, 'capitals_inside': False}, {'word': 'take', 'is_first': False, 'is_last': False, 'is_capitalized': False, 'is_all_caps': False, 'is_all_lower': True, 'prefix-1': 't', 'prefix-2': 'ta', 'prefix-3': 'tak', 'suffix-1': 'e', 'suffix-2': 'ke', 'suffix-3': 'ake', 'prev_word': 'to', 'next_word': 'another', 'has_hyphen': False, 'is_numeric': False, 'capitals_inside': False}, {'word': 'another', 'is_first': False, 'is_last': False, 'is_capitalized': False, 'is_all_caps': False, 'is_all_lower': True, 'prefix-1': 'a', 'prefix-2': 'an', 'prefix-3': 'ano', 'suffix-1': 'r', 'suffix-2': 'er', 'suffix-3': 'her', 'prev_word': 'take', 'next_word': 'sharp', 'has_hyphen': False, 'is_numeric': False, 'capitals_inside': False}, {'word': 'sharp', 'is_first': False, 'is_last': False, 'is_capitalized': False, 'is_all_caps': False, 'is_all_lower': True, 'prefix-1': 's', 'prefix-2': 'sh', 'prefix-3': 'sha', 'suffix-1': 'p', 'suffix-2': 'rp', 'suffix-3': 'arp', 'prev_word': 'another', 'next_word': 'dive', 'has_hyphen': False, 'is_numeric': False, 'capitals_inside': False}, {'word': 'dive', 'is_first': False, 'is_last': False, 'is_capitalized': False, 'is_all_caps': False, 'is_all_lower': True, 'prefix-1': 'd', 'prefix-2': 'di', 'prefix-3': 'div', 'suffix-1': 'e', 'suffix-2': 've', 'suffix-3': 'ive', 'prev_word': 'sharp', 'next_word': 'if', 'has_hyphen': False, 'is_numeric': False, 'capitals_inside': False}, {'word': 'if', 'is_first': False, 'is_last': False, 'is_capitalized': False, 'is_all_caps': False, 'is_all_lower': True, 'prefix-1': 'i', 'prefix-2': 'if', 'prefix-3': 'if', 'suffix-1': 'f', 'suffix-2': 'if', 'suffix-3': 'if', 'prev_word': 'dive', 'next_word': 'trade', 'has_hyphen': False, 'is_numeric': False, 'capitals_inside': False}, {'word': 'trade', 'is_first': False, 'is_last': False, 'is_capitalized': False, 'is_all_caps': False, 'is_all_lower': True, 'prefix-1': 't', 'prefix-2': 'tr', 'prefix-3': 'tra', 'suffix-1': 'e', 'suffix-2': 'de', 'suffix-3': 'ade', 'prev_word': 'if', 'next_word': 'figures', 'has_hyphen': False, 'is_numeric': False, 'capitals_inside': False}, {'word': 'figures', 'is_first': False, 'is_last': False, 'is_capitalized': False, 'is_all_caps': False, 'is_all_lower': True, 'prefix-1': 'f', 'prefix-2': 'fi', 'prefix-3': 'fig', 'suffix-1': 's', 'suffix-2': 'es', 'suffix-3': 'res', 'prev_word': 'trade', 'next_word': 'for', 'has_hyphen': False, 'is_numeric': False, 'capitals_inside': False}, {'word': 'for', 'is_first': False, 'is_last': False, 'is_capitalized': False, 'is_all_caps': False, 'is_all_lower': True, 'prefix-1': 'f', 'prefix-2': 'fo', 'prefix-3': 'for', 'suffix-1': 'r', 'suffix-2': 'or', 'suffix-3': 'for', 'prev_word': 'figures', 'next_word': 'September', 'has_hyphen': False, 'is_numeric': False, 'capitals_inside': False}, {'word': 'September', 'is_first': False, 'is_last': False, 'is_capitalized': True, 'is_all_caps': False, 'is_all_lower': False, 'prefix-1': 'S', 'prefix-2': 'Se', 'prefix-3': 'Sep', 'suffix-1': 'r', 'suffix-2': 'er', 'suffix-3': 'ber', 'prev_word': 'for', 'next_word': ',', 'has_hyphen': False, 'is_numeric': False, 'capitals_inside': False}, {'word': ',', 'is_first': False, 'is_last': False, 'is_capitalized': True, 'is_all_caps': True, 'is_all_lower': True, 'prefix-1': ',', 'prefix-2': ',', 'prefix-3': ',', 'suffix-1': ',', 'suffix-2': ',', 'suffix-3': ',', 'prev_word': 'September', 'next_word': 'due', 'has_hyphen': False, 'is_numeric': False, 'capitals_inside': False}, {'word': 'due', 'is_first': False, 'is_last': False, 'is_capitalized': False, 'is_all_caps': False, 'is_all_lower': True, 'prefix-1': 'd', 'prefix-2': 'du', 'prefix-3': 'due', 'suffix-1': 'e', 'suffix-2': 'ue', 'suffix-3': 'due', 'prev_word': ',', 'next_word': 'for', 'has_hyphen': False, 'is_numeric': False, 'capitals_inside': False}, {'word': 'for', 'is_first': False, 'is_last': False, 'is_capitalized': False, 'is_all_caps': False, 'is_all_lower': True, 'prefix-1': 'f', 'prefix-2': 'fo', 'prefix-3': 'for', 'suffix-1': 'r', 'suffix-2': 'or', 'suffix-3': 'for', 'prev_word': 'due', 'next_word': 'release', 'has_hyphen': False, 'is_numeric': False, 'capitals_inside': False}, {'word': 'release', 'is_first': False, 'is_last': False, 'is_capitalized': False, 'is_all_caps': False, 'is_all_lower': True, 'prefix-1': 'r', 'prefix-2': 're', 'prefix-3': 'rel', 'suffix-1': 'e', 'suffix-2': 'se', 'suffix-3': 'ase', 'prev_word': 'for', 'next_word': 'tomorrow', 'has_hyphen': False, 'is_numeric': False, 'capitals_inside': False}, {'word': 'tomorrow', 'is_first': False, 'is_last': False, 'is_capitalized': False, 'is_all_caps': False, 'is_all_lower': True, 'prefix-1': 't', 'prefix-2': 'to', 'prefix-3': 'tom', 'suffix-1': 'w', 'suffix-2': 'ow', 'suffix-3': 'row', 'prev_word': 'release', 'next_word': ',', 'has_hyphen': False, 'is_numeric': False, 'capitals_inside': False}, {'word': ',', 'is_first': False, 'is_last': False, 'is_capitalized': True, 'is_all_caps': True, 'is_all_lower': True, 'prefix-1': ',', 'prefix-2': ',', 'prefix-3': ',', 'suffix-1': ',', 'suffix-2': ',', 'suffix-3': ',', 'prev_word': 'tomorrow', 'next_word': 'fail', 'has_hyphen': False, 'is_numeric': False, 'capitals_inside': False}, {'word': 'fail', 'is_first': False, 'is_last': False, 'is_capitalized': False, 'is_all_caps': False, 'is_all_lower': True, 'prefix-1': 'f', 'prefix-2': 'fa', 'prefix-3': 'fai', 'suffix-1': 'l', 'suffix-2': 'il', 'suffix-3': 'ail', 'prev_word': ',', 'next_word': 'to', 'has_hyphen': False, 'is_numeric': False, 'capitals_inside': False}, {'word': 'to', 'is_first': False, 'is_last': False, 'is_capitalized': False, 'is_all_caps': False, 'is_all_lower': True, 'prefix-1': 't', 'prefix-2': 'to', 'prefix-3': 'to', 'suffix-1': 'o', 'suffix-2': 'to', 'suffix-3': 'to', 'prev_word': 'fail', 'next_word': 'show', 'has_hyphen': False, 'is_numeric': False, 'capitals_inside': False}, {'word': 'show', 'is_first': False, 'is_last': False, 'is_capitalized': False, 'is_all_caps': False, 'is_all_lower': True, 'prefix-1': 's', 'prefix-2': 'sh', 'prefix-3': 'sho', 'suffix-1': 'w', 'suffix-2': 'ow', 'suffix-3': 'how', 'prev_word': 'to', 'next_word': 'a', 'has_hyphen': False, 'is_numeric': False, 'capitals_inside': False}, {'word': 'a', 'is_first': False, 'is_last': False, 'is_capitalized': False, 'is_all_caps': False, 'is_all_lower': True, 'prefix-1': 'a', 'prefix-2': 'a', 'prefix-3': 'a', 'suffix-1': 'a', 'suffix-2': 'a', 'suffix-3': 'a', 'prev_word': 'show', 'next_word': 'substantial', 'has_hyphen': False, 'is_numeric': False, 'capitals_inside': False}, {'word': 'substantial', 'is_first': False, 'is_last': False, 'is_capitalized': False, 'is_all_caps': False, 'is_all_lower': True, 'prefix-1': 's', 'prefix-2': 'su', 'prefix-3': 'sub', 'suffix-1': 'l', 'suffix-2': 'al', 'suffix-3': 'ial', 'prev_word': 'a', 'next_word': 'improvement', 'has_hyphen': False, 'is_numeric': False, 'capitals_inside': False}, {'word': 'improvement', 'is_first': False, 'is_last': False, 'is_capitalized': False, 'is_all_caps': False, 'is_all_lower': True, 'prefix-1': 'i', 'prefix-2': 'im', 'prefix-3': 'imp', 'suffix-1': 't', 'suffix-2': 'nt', 'suffix-3': 'ent', 'prev_word': 'substantial', 'next_word': 'from', 'has_hyphen': False, 'is_numeric': False, 'capitals_inside': False}, {'word': 'from', 'is_first': False, 'is_last': False, 'is_capitalized': False, 'is_all_caps': False, 'is_all_lower': True, 'prefix-1': 'f', 'prefix-2': 'fr', 'prefix-3': 'fro', 'suffix-1': 'm', 'suffix-2': 'om', 'suffix-3': 'rom', 'prev_word': 'improvement', 'next_word': 'July', 'has_hyphen': False, 'is_numeric': False, 'capitals_inside': False}, {'word': 'July', 'is_first': False, 'is_last': False, 'is_capitalized': True, 'is_all_caps': False, 'is_all_lower': False, 'prefix-1': 'J', 'prefix-2': 'Ju', 'prefix-3': 'Jul', 'suffix-1': 'y', 'suffix-2': 'ly', 'suffix-3': 'uly', 'prev_word': 'from', 'next_word': 'and', 'has_hyphen': False, 'is_numeric': False, 'capitals_inside': False}, {'word': 'and', 'is_first': False, 'is_last': False, 'is_capitalized': False, 'is_all_caps': False, 'is_all_lower': True, 'prefix-1': 'a', 'prefix-2': 'an', 'prefix-3': 'and', 'suffix-1': 'd', 'suffix-2': 'nd', 'suffix-3': 'and', 'prev_word': 'July', 'next_word': 'August', 'has_hyphen': False, 'is_numeric': False, 'capitals_inside': False}, {'word': 'August', 'is_first': False, 'is_last': False, 'is_capitalized': True, 'is_all_caps': False, 'is_all_lower': False, 'prefix-1': 'A', 'prefix-2': 'Au', 'prefix-3': 'Aug', 'suffix-1': 't', 'suffix-2': 'st', 'suffix-3': 'ust', 'prev_word': 'and', 'next_word': \"'s\", 'has_hyphen': False, 'is_numeric': False, 'capitals_inside': False}, {'word': \"'s\", 'is_first': False, 'is_last': False, 'is_capitalized': True, 'is_all_caps': False, 'is_all_lower': True, 'prefix-1': \"'\", 'prefix-2': \"'s\", 'prefix-3': \"'s\", 'suffix-1': 's', 'suffix-2': \"'s\", 'suffix-3': \"'s\", 'prev_word': 'August', 'next_word': 'near-record', 'has_hyphen': False, 'is_numeric': False, 'capitals_inside': False}, {'word': 'near-record', 'is_first': False, 'is_last': False, 'is_capitalized': False, 'is_all_caps': False, 'is_all_lower': True, 'prefix-1': 'n', 'prefix-2': 'ne', 'prefix-3': 'nea', 'suffix-1': 'd', 'suffix-2': 'rd', 'suffix-3': 'ord', 'prev_word': \"'s\", 'next_word': 'deficits', 'has_hyphen': True, 'is_numeric': False, 'capitals_inside': False}, {'word': 'deficits', 'is_first': False, 'is_last': False, 'is_capitalized': False, 'is_all_caps': False, 'is_all_lower': True, 'prefix-1': 'd', 'prefix-2': 'de', 'prefix-3': 'def', 'suffix-1': 's', 'suffix-2': 'ts', 'suffix-3': 'its', 'prev_word': 'near-record', 'next_word': '.', 'has_hyphen': False, 'is_numeric': False, 'capitals_inside': False}, {'word': '.', 'is_first': False, 'is_last': True, 'is_capitalized': True, 'is_all_caps': True, 'is_all_lower': True, 'prefix-1': '.', 'prefix-2': '.', 'prefix-3': '.', 'suffix-1': '.', 'suffix-2': '.', 'suffix-3': '.', 'prev_word': 'deficits', 'next_word': '', 'has_hyphen': False, 'is_numeric': False, 'capitals_inside': False}]\n",
            "['NN', 'IN', 'DT', 'NN', 'VBZ', 'RB', 'VBN', 'TO', 'VB', 'DT', 'JJ', 'NN', 'IN', 'NN', 'NNS', 'IN', 'NNP', 'PUN', 'JJ', 'IN', 'NN', 'NN', 'PUN', 'VB', 'TO', 'VB', 'DT', 'JJ', 'NN', 'IN', 'NNP', 'CC', 'NNP', 'POS', 'JJ', 'NNS', 'PUN']\n"
          ],
          "name": "stdout"
        }
      ]
    },
    {
      "cell_type": "code",
      "metadata": {
        "colab": {
          "base_uri": "https://localhost:8080/"
        },
        "id": "9e-AEBTm-Jwo",
        "outputId": "f3750301-59ed-4925-a78b-8dbcefaf6d45"
      },
      "source": [
        "from sklearn_crfsuite import CRF\n",
        " \n",
        "model = CRF()\n",
        "model.fit(X_train, y_train)"
      ],
      "execution_count": null,
      "outputs": [
        {
          "output_type": "stream",
          "text": [
            "/usr/local/lib/python3.7/dist-packages/sklearn/base.py:197: FutureWarning: From version 0.24, get_params will raise an AttributeError if a parameter cannot be retrieved as an instance attribute. Previously it would return None.\n",
            "  FutureWarning)\n"
          ],
          "name": "stderr"
        },
        {
          "output_type": "execute_result",
          "data": {
            "text/plain": [
              "CRF(algorithm=None, all_possible_states=None, all_possible_transitions=None,\n",
              "    averaging=None, c=None, c1=None, c2=None, calibration_candidates=None,\n",
              "    calibration_eta=None, calibration_max_trials=None, calibration_rate=None,\n",
              "    calibration_samples=None, delta=None, epsilon=None, error_sensitive=None,\n",
              "    gamma=None, keep_tempfiles=None, linesearch=None, max_iterations=None,\n",
              "    max_linesearch=None, min_freq=None, model_filename=None, num_memories=None,\n",
              "    pa_type=None, period=None, trainer_cls=None, variance=None, verbose=False)"
            ]
          },
          "metadata": {
            "tags": []
          },
          "execution_count": 19
        }
      ]
    },
    {
      "cell_type": "code",
      "metadata": {
        "id": "zuRm_7gqAgmy"
      },
      "source": [
        "def pos_tag(sentence):\n",
        "    sentence_features , _ = preprocess_data([sentence])\n",
        "    return model.predict(sentence_features)[0]"
      ],
      "execution_count": null,
      "outputs": []
    },
    {
      "cell_type": "code",
      "metadata": {
        "colab": {
          "base_uri": "https://localhost:8080/"
        },
        "id": "RrBCKRJd6rQt",
        "outputId": "bc849fa2-f701-481c-d397-b9da86a37c76"
      },
      "source": [
        "from sklearn_crfsuite import metrics\n",
        " \n",
        "y_pred = model.predict(X_test)\n",
        "print(metrics.flat_accuracy_score(y_test, y_pred))"
      ],
      "execution_count": null,
      "outputs": [
        {
          "output_type": "stream",
          "text": [
            "0.9731093146463474\n"
          ],
          "name": "stdout"
        }
      ]
    },
    {
      "cell_type": "code",
      "metadata": {
        "colab": {
          "base_uri": "https://localhost:8080/"
        },
        "id": "VcV_8nhLAord",
        "outputId": "a0e0229b-d12d-4d5b-94be-0237d169108c"
      },
      "source": [
        "s = \"My name is Shyam and I study at EPFL university in Switzerland .\"\n",
        "pos_tag(s)"
      ],
      "execution_count": null,
      "outputs": [
        {
          "output_type": "execute_result",
          "data": {
            "text/plain": [
              "['PRP$',\n",
              " 'NN',\n",
              " 'VBZ',\n",
              " 'NNP',\n",
              " 'CC',\n",
              " 'PRP',\n",
              " 'VBP',\n",
              " 'IN',\n",
              " 'NNP',\n",
              " 'NN',\n",
              " 'IN',\n",
              " 'NNP',\n",
              " 'PUN']"
            ]
          },
          "metadata": {
            "tags": []
          },
          "execution_count": 23
        }
      ]
    },
    {
      "cell_type": "code",
      "metadata": {
        "id": "SvejO5xF6uBY"
      },
      "source": [
        ""
      ],
      "execution_count": null,
      "outputs": []
    }
  ]
}